{
 "cells": [
  {
   "cell_type": "markdown",
   "metadata": {},
   "source": [
    "# Assignment"
   ]
  },
  {
   "cell_type": "markdown",
   "metadata": {},
   "source": [
    "## Importing Required Modules and reading csv's"
   ]
  },
  {
   "cell_type": "code",
   "execution_count": 2,
   "metadata": {},
   "outputs": [
    {
     "name": "stdout",
     "output_type": "stream",
     "text": [
      "(514, 11)\n",
      "514\n",
      "    salary  exprior  yearsworked  yearsrank  market  degree  otherqual  \\\n",
      "0  53000.0        0            0          0    1.17       1          0   \n",
      "1  58000.0        1            0          0    1.24       1          0   \n",
      "2  45500.0        0            0          0    1.21       1          0   \n",
      "3  35782.0        0            2          1    0.99       1          0   \n",
      "4  34731.0        0            2          2    0.91       1          0   \n",
      "\n",
      "   position  male  Field  yearsabs  \n",
      "0         1     1      3         0  \n",
      "1         1     1      2         0  \n",
      "2         1     1      3         2  \n",
      "3         1     1      4         1  \n",
      "4         1     1      4         1  \n"
     ]
    }
   ],
   "source": [
    "import pandas as pd\n",
    "import matplotlib.pyplot as plt\n",
    "import seaborn as sns\n",
    "import numpy as np\n",
    "import scipy as sp\n",
    "from scipy import stats\n",
    "\n",
    "data = pd.read_csv('salary.csv')\n",
    "descrip_of_vars = pd.read_csv('Salary_metadata.csv',sep = ';')\n",
    "print(data.shape)\n",
    "print(len(data))\n",
    "print(data.head())\n",
    "#print(descrip_of_vars.shape)\n",
    "#print(descrip_of_vars.head(11))\n",
    "#print(descrip_of_vars['Explanation'].head(11))"
   ]
  },
  {
   "cell_type": "markdown",
   "metadata": {},
   "source": [
    "## 1.How many responders are there? Are there any missing values in any of the variables?"
   ]
  },
  {
   "cell_type": "code",
   "execution_count": 29,
   "metadata": {},
   "outputs": [
    {
     "name": "stdout",
     "output_type": "stream",
     "text": [
      "(513, 11)\n",
      "False\n",
      "False\n",
      "<class 'pandas.core.frame.DataFrame'>\n",
      "Int64Index: 513 entries, 0 to 513\n",
      "Data columns (total 11 columns):\n",
      "salary         513 non-null float64\n",
      "exprior        513 non-null int64\n",
      "yearsworked    513 non-null int64\n",
      "yearsrank      513 non-null int64\n",
      "market         513 non-null float64\n",
      "degree         513 non-null int64\n",
      "otherqual      513 non-null int64\n",
      "position       513 non-null int64\n",
      "male           513 non-null int64\n",
      "Field          513 non-null int64\n",
      "yearsabs       513 non-null int64\n",
      "dtypes: float64(2), int64(9)\n",
      "memory usage: 68.1 KB\n",
      "             salary     exprior  yearsworked   yearsrank      market  \\\n",
      "count    513.000000  513.000000   513.000000  513.000000  513.000000   \n",
      "mean   50863.220098    2.931774    12.836257    7.046784    0.948558   \n",
      "std    12685.132358    4.794327     9.447040    6.419708    0.149524   \n",
      "min    29000.000000    0.000000     0.000000    0.000000    0.710000   \n",
      "25%    40000.000000    0.000000     4.000000    2.000000    0.840000   \n",
      "50%    50096.000000    1.000000    12.000000    5.000000    0.920000   \n",
      "75%    60345.000000    4.000000    22.000000   12.000000    1.020000   \n",
      "max    96156.000000   25.000000    41.000000   28.000000    1.330000   \n",
      "\n",
      "           degree   otherqual    position        male       Field    yearsabs  \n",
      "count  513.000000  513.000000  513.000000  513.000000  513.000000  513.000000  \n",
      "mean     0.964912    0.044834    2.130604    0.750487    2.526316    6.994152  \n",
      "std      0.184181    0.207142    0.819977    0.433153    1.126644   16.887552  \n",
      "min      0.000000    0.000000    1.000000    0.000000    1.000000    0.000000  \n",
      "25%      1.000000    0.000000    1.000000    1.000000    2.000000    0.000000  \n",
      "50%      1.000000    0.000000    2.000000    1.000000    3.000000    1.000000  \n",
      "75%      1.000000    0.000000    3.000000    1.000000    4.000000    2.000000  \n",
      "max      1.000000    1.000000    3.000000    1.000000    4.000000  118.000000  \n"
     ]
    }
   ],
   "source": [
    "print(data.shape) #we have 514 rows\n",
    "print(data.isnull().values.any())\n",
    "print(data.isna().values.any()) # I believe this does the same this as isnull\n",
    "\n",
    "data.info()\n",
    "print(data.describe())\n",
    "\n",
    "data = data.dropna()\n"
   ]
  },
  {
   "cell_type": "markdown",
   "metadata": {},
   "source": [
    "There are 514 responders , but one had a NaN value and decided to drop him as it isnt a huge swing in data. "
   ]
  },
  {
   "cell_type": "markdown",
   "metadata": {},
   "source": [
    "## 2.What is the lowest salary and highest salary in the group?"
   ]
  },
  {
   "cell_type": "code",
   "execution_count": 6,
   "metadata": {},
   "outputs": [
    {
     "name": "stdout",
     "output_type": "stream",
     "text": [
      "29000.0 is the minimum and 96156.0 is the maximum\n"
     ]
    }
   ],
   "source": [
    "minimum = data['salary'].min()\n",
    "maximum = data['salary'].max()\n",
    "\n",
    "print(f\"{minimum} is the minimum and {maximum} is the maximum\")"
   ]
  },
  {
   "cell_type": "markdown",
   "metadata": {},
   "source": [
    "The lowest in this dataset is 29 000 and highest 96 156 which shows the range of difference in salaries . This could be the level of importance in their respective jobs (CEO, Normal Worker) .In that regard it normal to have a pay gap. "
   ]
  },
  {
   "cell_type": "markdown",
   "metadata": {},
   "source": [
    "## 3.What is the mean salary for the sample? Include the standard error of the mean."
   ]
  },
  {
   "cell_type": "code",
   "execution_count": 4,
   "metadata": {},
   "outputs": [
    {
     "name": "stdout",
     "output_type": "stream",
     "text": [
      "50863.22009783626 is the mean and the standard error of the mean id 560.0622753925232\n"
     ]
    }
   ],
   "source": [
    "mean = data['salary'].mean()\n",
    "std_error_mean = data['salary'].sem()\n",
    "print(f\"{mean} is the mean and the standard error of the mean id {std_error_mean}\")"
   ]
  },
  {
   "cell_type": "markdown",
   "metadata": {},
   "source": [
    "The mean is 50 863 which is the average of the entire data set . In this regard this shows that majority actually earn more or the high salary is picking up the low earners which may skew out data . The standard error of the mean 560, is a measure of the dispersion of sample means around the salary ."
   ]
  },
  {
   "cell_type": "markdown",
   "metadata": {},
   "source": [
    "## 4.What is the standard deviation for the years worked?"
   ]
  },
  {
   "cell_type": "code",
   "execution_count": 8,
   "metadata": {},
   "outputs": [
    {
     "name": "stdout",
     "output_type": "stream",
     "text": [
      "9.447040460636986 is the standard deviation\n"
     ]
    }
   ],
   "source": [
    "standard_dev = data['yearsworked'].std()\n",
    "print(f\"{standard_dev} is the standard deviation\")"
   ]
  },
  {
   "cell_type": "markdown",
   "metadata": {},
   "source": [
    "The standard deviation is 9.45 so of the years worked from the 12 mean showing that most of the numbers are close to the average ."
   ]
  },
  {
   "cell_type": "markdown",
   "metadata": {},
   "source": [
    "## 5.What is the median salary for the sample?"
   ]
  },
  {
   "cell_type": "code",
   "execution_count": 9,
   "metadata": {},
   "outputs": [
    {
     "name": "stdout",
     "output_type": "stream",
     "text": [
      "50096.0 is the median\n"
     ]
    }
   ],
   "source": [
    "median = data['salary'].median()\n",
    "print(f\"{median} is the median\")"
   ]
  },
  {
   "cell_type": "markdown",
   "metadata": {},
   "source": [
    "The median or the middle , is 50 096 showing that the data seems roundabout split in the middle of 29000.0 and 96156.0 . "
   ]
  },
  {
   "cell_type": "markdown",
   "metadata": {},
   "source": [
    "## 6.What is the interquartile range for salary in the sample? "
   ]
  },
  {
   "cell_type": "code",
   "execution_count": 13,
   "metadata": {},
   "outputs": [
    {
     "name": "stdout",
     "output_type": "stream",
     "text": [
      "The interquartile range for salary is 20345.0\n",
      "The lower outlier boundary is 19655.0\n",
      "The upper outlier boundary is 80690.0\n"
     ]
    }
   ],
   "source": [
    "Q1 = data['salary'].quantile(0.25)\n",
    "Q3 = data['salary'].quantile(0.75)\n",
    "IQR = Q3 - Q1\n",
    "outlier_lower =  Q1 - IQR\n",
    "outlier_upper =  Q3 + IQR\n",
    "print(f'The interquartile range for salary is {IQR}')\n",
    "print(f'The lower outlier boundary is {outlier_lower}')\n",
    "print(f'The upper outlier boundary is {outlier_upper}')"
   ]
  },
  {
   "cell_type": "markdown",
   "metadata": {},
   "source": [
    "The interquartile range also called the midspread or middle 50% is 20345.0 . Which is close to the minimum salary , but significantly less . SO anything above the Q3 + IQR is an outlier which means the highest salary is an outlier. "
   ]
  },
  {
   "cell_type": "markdown",
   "metadata": {},
   "source": [
    "## 7.How many men are there in the sample? How many women are there in the sample? Present this information in a table."
   ]
  },
  {
   "cell_type": "code",
   "execution_count": 19,
   "metadata": {},
   "outputs": [
    {
     "name": "stdout",
     "output_type": "stream",
     "text": [
      "        Gender\n",
      "male       386\n",
      "female     128\n"
     ]
    }
   ],
   "source": [
    "num_of_sex = data['male'].value_counts()\n",
    "num_of_sex.index = ['male','female']\n",
    "df_num_of_sex = num_of_sex.to_frame()\n",
    "df_num_of_sex.columns = ['Gender']\n",
    "print(df_num_of_sex)"
   ]
  },
  {
   "cell_type": "markdown",
   "metadata": {},
   "source": [
    "The number of males is significantly higher than females . This could be the reason women are fighting for equal opportunity as work has been a male dominated thing. Women are still playing catch up and thus the disparity."
   ]
  },
  {
   "cell_type": "markdown",
   "metadata": {},
   "source": [
    "## 8.How many women are executives compared to men? "
   ]
  },
  {
   "cell_type": "code",
   "execution_count": 18,
   "metadata": {},
   "outputs": [
    {
     "name": "stdout",
     "output_type": "stream",
     "text": [
      "Male      192\n",
      "Female     19\n",
      "Name: gender, dtype: int64\n",
      "49.61038961038961 14.84375\n"
     ]
    },
    {
     "name": "stderr",
     "output_type": "stream",
     "text": [
      "/Users/oliverangelil/miniconda3/lib/python3.6/site-packages/ipykernel_launcher.py:2: SettingWithCopyWarning: \n",
      "A value is trying to be set on a copy of a slice from a DataFrame.\n",
      "Try using .loc[row_indexer,col_indexer] = value instead\n",
      "\n",
      "See the caveats in the documentation: http://pandas.pydata.org/pandas-docs/stable/indexing.html#indexing-view-versus-copy\n",
      "  \n"
     ]
    }
   ],
   "source": [
    "executives =  data[data['position']== 3]\n",
    "executives['gender'] = executives['male'].apply(lambda sex: 'Male' if sex == 1 else 'Female')\n",
    "print(executives['gender'].value_counts())\n",
    "\n",
    "male_diff = 191/385*100\n",
    "female_diff = 19/128*100\n",
    "print(male_diff,female_diff)"
   ]
  },
  {
   "cell_type": "markdown",
   "metadata": {},
   "source": [
    "From this you can see the number of executives which is still high for men almost 50% which could also be the indication of having males working so long . Whereas females only 14% are executives which is fairly low ."
   ]
  },
  {
   "cell_type": "markdown",
   "metadata": {},
   "source": [
    "## 9.Create a histogram for the variable Salary. "
   ]
  },
  {
   "cell_type": "code",
   "execution_count": 20,
   "metadata": {},
   "outputs": [
    {
     "data": {
      "image/png": "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\n",
      "text/plain": [
       "<Figure size 432x288 with 1 Axes>"
      ]
     },
     "metadata": {
      "needs_background": "light"
     },
     "output_type": "display_data"
    }
   ],
   "source": [
    "data['salary'].plot.hist()\n",
    "plt.xlabel('Salaries')\n",
    "plt.title('The frequency of different salary')\n",
    "plt.show()"
   ]
  },
  {
   "cell_type": "markdown",
   "metadata": {},
   "source": [
    "## 10.Examine the histogram and describe the distribution for Salary. "
   ]
  },
  {
   "cell_type": "markdown",
   "metadata": {},
   "source": [
    "The frequency decreases the more the client starts making . The cluster is around 40 000 to 60 000 earning in the respective currency is where the general majority lies hence the difference isn't as significant and has a high count . Showing that's where the mean and median is .  Showing that from there (60 000 + salary) is a significant drop of frequency of people earning high amounts which could be the outliers . The peaks for the histogram are around the median, this implies that the number of executives do not have such a major influence of the salary layout. \n"
   ]
  },
  {
   "cell_type": "markdown",
   "metadata": {},
   "source": [
    "## 11.Create a bar graph to show the different average salaries of men and women. (Bonus: Add error bars to the bars showing the 95% confidence interval). What does the graph tell you about the difference between men and women’s salaries? "
   ]
  },
  {
   "cell_type": "code",
   "execution_count": 21,
   "metadata": {},
   "outputs": [
    {
     "data": {
      "image/png": "iVBORw0KGgoAAAANSUhEUgAAAZUAAAEWCAYAAACufwpNAAAABHNCSVQICAgIfAhkiAAAAAlwSFlzAAALEgAACxIB0t1+/AAAADl0RVh0U29mdHdhcmUAbWF0cGxvdGxpYiB2ZXJzaW9uIDMuMC4wLCBodHRwOi8vbWF0cGxvdGxpYi5vcmcvqOYd8AAAIABJREFUeJzt3Xm8HFWd9/HPl4QlhCUEAi9IQsISQUDWAFHmGSNoCKAGVB4DOAkQDCIo4/YAOiPI4u4gjAoEiARF2RQIDhDCPuwECUEWTVhzDUsgYRcw8Hv+OKdJ5ab73s691bfTyff9evXrVp06depU3+r69TmnqloRgZmZWRlWaXYFzMxsxeGgYmZmpXFQMTOz0jiomJlZaRxUzMysNA4qZmZWGgeV5YykayWNL8yfKulFSc/l+QMkzZX0uqSdmldT64ykCySd2o31lzgWGk3JryUtlHRvT223p0k6VNLtza7Hiqp3syuwMpEUwJtAAG8DM4FJEXFJJU9E7FPIPxj4BjAkIl7IyT8FjomIq3qs4ovrcxKwZUR8oae3vTIqHgs95F+ATwCDIuKNHt62rSDcUul5O0TEWsBWwAXALySdWCPvEOClQkCppD3clQ1LWiG+RKwo+1FLbjE047M5BHjKAcW6JSL86qEXqYWyZbu0zwFvAevn+VuAI4CPA/8A3gNeB36f/wbwBvB4zr8J8AdgPvAk8NVC2ScBlwO/BV7N5a4CHA88DrwEXAr0z/mH5vLHA88ALwLfyctGA+8A/8z1eLDGPlbKfg14BDggp68OvAxsV8g7IO/jhnn+k6TW28vAncD2hbxPAccBs0itvN61tpXz9wJ+lvfhSeCYvG+98/J1gfOBZ4G/A6cCvWrs027AjPwePg/8V2HZZcBzwCvAbcC2hWUXAKfm6fWAP+X/08I8PaiQ9xbgNOCO/J5sWTkWCnkOBx7N608jtWABBJwOvJDrMav4Prfbl02AqcACYA7wxZw+gXQcvpv/v9+rsu6huX6n5//RE8BHcvrcvP3xhfyrk1rWz+T37WygT142EmgjtcRfyP+Hwzr47ByW9/21vN0jC8s6LAtYP+/zq8C9wCnA7TW2MwX4Rp4emI+ZL+f5LfP7pjz/xfweLsjlb9Lus/5lYHau8ynAFsBduR6XAqsV8nd27H8z/19fAS4B1mj2+azm/6rZFViZXlQPKqsCi4B98vz7J5LKh6VWGaQAcT/wXWA1YPP8gds7Lz+JFAT2z3n7AP8O3A0Myh/6c4Df5/xDc/nn5rw7kE7gHyyU99tO9vFA0olrFeDzpAC4cV42GTitkPdo4Lo8vXM+IexOCgjj84dp9bz8qfyhG8ziE1NH2/oSKdAMIp3Qb2DJoHJl3ve+wIakk82RNfbpLuDf8vRawIjCssOBtfN7+XNgZmHZBSwOKusDnwXWzPkvA64s5L2FdPLdlhQwV213LOxPOoF9MC//D+DOvGzvfBz0IwWYD1behyr7civwK2ANYEdSkNsrLzuUGifbwvJFpBN8L1Igfgb4Zd7/UaQT6Fo5/89JJ9v+eZ+vBn5QOLYXASfnfd2X1DW8Xo1t70c6KQv4aM67cz1lAReTTuJ9ge1IXyJqBZXDgavz9MGkLy2XFJZdlaf3JH1h2Tnv+38Dt7X7nE4F1sn/07eBG0mf0XVJx+b4ZTj27yUd6/1JwfVLzT6f1TxOml2BlelFlaCS058DDsnTt1B/UNkdeKbd8hOAX+fpk4oHek57lHwSyfMbkwJPbxYHleI36HuBsYXyOgwqVfZtJjAmT38ceKKw7A5gXJ4+Czil3bp/BT6ap58CDl+Gbd3Ekt9mP573rTewUf6Q9yksPwi4uUa5twHfAzboZPv98jbWzfMXkINKlbw7AgsL87cAJ7fLUzwWrgUmFJatQjpxDiGd4P4GjABW6aB+g0ktkbULaT8ALsjTh9J5UJldmP9Q3t+NCmkv5X0TKchvUVj2YeDJwrH9D3KQz2kvUAjYnbzXVwLHdlYW6ST9T2DrwrLv19pPUuB6Ob+/ZwNHkj+DpFbM1/P0+cCPC+utlbcztPA53aOw/H7guML8z4CfL8Ox/4XCsh8DZy/L57AnXx5TaTJJq5K6gRZ0YfUhwCaSXq68gG+TTpoVc6usc0Uh/6OkE01xnecK02+SPjB1kTRO0sxC+dsBG+TFNwF9JO0uaQjp5HNFoV7faLcvg0nfzqruSyfb2qRd/uL0ENI32mcL655DarFUMwH4APCYpPskfTJvv5ekH0p6XNKrpA8/hToU67qmpHMkPZ3z3gb0k9Sr1v61MwQ4o1DfBaQT98CIuAn4BanF8LykSZLWqVLGJsCCiHitkPY0qZunXs8Xpv8BEBHt09YiHdNrAvcX6nxdTq94KSIWFeZrHmuS9pF0t6QFuax9WfJ9rlXWANIXieJ7+3StnYuIx0ndfzsC/4fUTTlP0lakFtKtOesmxXIi4nVSQC2+l+3fl2rvE9R37Hf5M9nTVugBzxYxhtR078olnHNJ3/yGdZAnqqxzeETc0T6jpKGdbK99We3XH0LqOtsLuCsi3pU0k3TyIyLek3QpqVXwPPCnwgluLqlr7LR6tt/Ztkj96oMK6w4uTM8ltVQ2aHciqr7RiNnAQXnw/DPA5ZLWz9NjSK2gp0jdGgsLdSj6BunijN0j4jlJOwIPtMvb0ftbeX8uqlHHM4EzJW1I6ur5FvCf7bLNA/pLWrvwvm9K6g4q24ukE+e2EdGt8iWtTho3HEfqfvqnpCup/j63N5/0+RoMPJbTNu1knVtJY52rRcTfJd2at70eqTUM6b0cUqhjX1IXZ1f2tZ5jv2W4pdIkkvpLOoT07fJHEfFSF4q5F3hV0nGS+uRvzttJ2rWDdc4GTssnZSQNkDSmzu09Dwzt4MqkvqQT4/xc9mGk1kPR70jjH4fk6YpzgS/lVowk9ZW0n6S1u7itS4FjJQ2U1I80yA9ARDwLXA/8TNI6klaRtIWkj1bbkKQvSBoQEe+RukYgdyORgtNLpG/l369RV3LefwAvS+oPnNhB3mrOBk6QtG2u07qSDszTu+b3bVVSl1NlwH0JETGXNAj8A0lrSNqe1AqrGqi6I79X5wKn50BH/l/s3YXiViONW8wHFknahzR+U0893gX+CJyUW4vbkMYsOnIr6cKO2/L8LcBXSF1mlff1d8BhknbMQe/7wD0R8VTde7XYsh77yzUHlZ73oKTXSYOuRwBfi4jvdqWgfIB/itRUf5L07fA80jfmWs4gDSBeL+k10qD97nVu8rL89yVJf65Sn0dIfcV3kQLQh0jjJsU895BOfJuQxgkq6TNIV9P8gvRtfw6pD7+qOrZ1LilwzCK1CK4hfWOtnBTGkU5Wj+TtXU4aX6pmNPBw/r+dQRpjegu4kNQF8vdczt216ksatO5D+h/dTeoKqltEXAH8CLg4d5/9Bajcx7JO3t+FuT4vka66quYg0tjZPFLX44kRMX1Z6rIMjiP9H+/Odb6B1FpbJrlV9VXSF4WFpAH0qctQxDGk7qLnSONcv+4k/62kLwGVoHI76UtDZZ6IuJHUEvwDqVW8BTB2Ger0vmU99pd3lUvjzFZo+dvt2RExpNPMZtZlbqnYCil3B+4rqbekgaTupis6W8/MusctFVshSVqT1I2xNWks439Il6C+2tSKma3gHFTMzKw07v4yM7PSrHT3qWywwQYxdOjQZlfDzKxl3H///S9GxIDOc66EQWXo0KHMmDGj2dUwM2sZkmo+haA9d3+ZmVlpHFTMzKw0DipmZlYaBxUzMyuNg4qZmZXGQcXMzErjoGJmZqVxUDEzs9I4qJiZWWkcVMxshTNy5EhGjhzZ7GqslBxUzMysNA4qZmZWGgcVMzMrjYOKmZmVxkHFzMxK46BiZmalcVAxM7PSOKiYmVlpHFTMzKw0DipmZlYaBxUzMyuNg4qZmZXGQcXMzErjoGJmZqVxUDEzs9I0NKhI6ifpckmPSXpU0ocl9Zc0XdLs/He9nFeSzpQ0R9IsSTsXyhmf88+WNL6Qvoukh/I6Z0pSI/fHzMw61uiWyhnAdRGxNbAD8ChwPHBjRAwDbszzAPsAw/JrInAWgKT+wInA7sBuwImVQJTzTCysN7rB+2NmZh1oWFCRtA7wr8D5ABHxTkS8DIwBpuRsU4D98/QY4MJI7gb6SdoY2BuYHhELImIhMB0YnZetExF3RUQAFxbKMjOzJmhkS2VzYD7wa0kPSDpPUl9go4h4FiD/3TDnHwjMLazfltM6Sm+rkr4USRMlzZA0Y/78+d3fMzMzq6qRQaU3sDNwVkTsBLzB4q6uaqqNh0QX0pdOjJgUEcMjYviAAQM6rrWZmXVZI4NKG9AWEffk+ctJQeb53HVF/vtCIf/gwvqDgHmdpA+qkm5mZk3SsKASEc8BcyVtlZP2Ah4BpgKVK7jGA1fl6anAuHwV2Ajgldw9Ng0YJWm9PEA/CpiWl70maUS+6mtcoSwzM2uC3g0u/yvARZJWA54ADiMFskslTQCeAQ7Mea8B9gXmAG/mvETEAkmnAPflfCdHxII8fRRwAdAHuDa/zMysSRoaVCJiJjC8yqK9quQN4Oga5UwGJldJnwFs181qmplZSXxHvZmZlcZBxczMSuOgYmZmpXFQMTOz0jiomJlZaRxUzMysNA4qZmZWGgcVMzMrjYOKdcnIkSMZOXJks6thZssZBxUzMyuNg4qZmZXGQcXMzErjoGJmZqVxUDEzs9I0+vdUzKwHPXPyh5pdheXC208/Afj9qNj0uw/12LbcUjEzs9I4qJiZWWkcVMzMrDQOKmZmVhoHFTMzK42DipmZlcZBxczMStPQoCLpKUkPSZopaUZO6y9puqTZ+e96OV2SzpQ0R9IsSTsXyhmf88+WNL6Qvksuf05eV43cHzMz61hPtFQ+FhE7RsTwPH88cGNEDANuzPMA+wDD8msicBakIAScCOwO7AacWAlEOc/EwnqjG787ZmZWSzO6v8YAU/L0FGD/QvqFkdwN9JO0MbA3MD0iFkTEQmA6MDovWyci7oqIAC4slGVmZk3Q6KASwPWS7pc0MadtFBHPAuS/G+b0gcDcwrptOa2j9LYq6UuRNFHSDEkz5s+f381dMjOzWhr97K89ImKepA2B6ZIe6yBvtfGQ6EL60okRk4BJAMOHD6+ax8zMuq+hLZWImJf/vgBcQRoTeT53XZH/vpCztwGDC6sPAuZ1kj6oSrqZmTVJw4KKpL6S1q5MA6OAvwBTgcoVXOOBq/L0VGBcvgpsBPBK7h6bBoyStF4eoB8FTMvLXpM0Il/1Na5QlpmZNUEju782Aq7IV/n2Bn4XEddJug+4VNIE4BngwJz/GmBfYA7wJnAYQEQskHQKcF/Od3JELMjTRwEXAH2Aa/PLzMyapGFBJSKeAHaokv4SsFeV9ACOrlHWZGBylfQZwHbdrqyZmZXCd9SbmVlpHFTMzKw0DipmZlYaBxUzMyuNg4qZmZXGQcXMzErTaVCR9AdJ+0lyADIzsw7VEyjOAg4GZkv6oaStG1wnMzNrUZ0GlYi4ISIOAXYGniI9GPJOSYdJWrXRFTQzs9ZRV5eWpPWBQ4EjgAeAM0hBZnrDamZmZi2n08e0SPojsDXwG+BTld9CAS6p/ESwmZkZdBJU8uD8zIj4TLXlhZ8INjMz67j7KyLeI/12vJmZWafqGVO5XtJn82+WmJmZ1VTPo++/DvQFFkl6i/QzvhER6zS0ZmZm1nI6DSoRsXZPVMTMzFpfXT/SlX/GdxiwRiUtIm5rVKXMzKw11XNJ8RHAscAgYCYwArgL2LOxVVs+7fKtC5tdheXC3x5/HvD7UXH/T8Y1uwpmy4V6BuqPBXYFno6IjwE7AfMbWiszM2tJ9QSVtyLiLQBJq0fEY8BWja2WmZm1onrGVNok9QOuJD33ayEwr7HVMjOzVlTP1V8H5MmTJN0MrAtc19BamZlZS6rZ/SWpf/sX8BBwO7BWvRuQ1EvSA5L+lOc3k3SPpNmSLpG0Wk5fPc/PycuHFso4Iaf/VdLehfTROW2OpOOXee/NzKxUHbVU7geCdLNjewFsXuc2jgUeBSo3S/4IOD0iLpZ0NjCB9JstE4CFEbGlpLE53+clbQOMBbYFNgFukPSBXNYvgU8AbcB9kqZGxCN11svMVlCXHFbv6cnKVrOlEhGbRcTm+W/7V13/MUmDgP2A8/K8SJciX56zTAH2z9Nj8jx5+V45/xjg4oh4OyKeBOYAu+XXnIh4IiLeAS7Oec3MrEkaffPjz4H/B1Tuyl8feDkiFuX5NmBgnh4IzM1lL5L0Ss4/ELi7UGZxnbnt0nevZ3/MzKwxGnbzo6RPAi9ExP2SRlaSq2SNTpbVSq/WyooqaUiaCEwE2HTTTTuotZmZdUcjb37cA/i0pKdIXVN7klou/SRVgtkgFl+e3AYMBsjL1wUWFNPbrVMrfSkRMSkihkfE8AEDBtRRdTMz64qG3fwYESdExKCIGEoaaL8p/9b9zcDncrbxwFV5emqeJy+/KSIip4/NV4dtRuqGuxe4DxiWryZbLW9jah37Y2ZmDdKMmx+PAy6WdCrp9+7Pz+nnA7+RNIfUQhkLEBEPS7oUeARYBBwdEe8CSDoGmAb0AiZHxMPdqJeZmXVTj9z8GBG3ALfk6SdIV261z/MWcGCN9U8DTquSfg1wzbLUxczMGqejmx/XlLRqYX4rYGegd76E18zMbAkdjalcBwwFkLQl6YqvzYGjJf2w8VUzM7NW01FQWS8iZufp8cDvI+IrwD6kGxrNzMyW0FFQKd7zsScwHSB3fb3XyEqZmVlr6migfpaknwJ/B7YErgfIV4KZmZktpaOWyheBF0njKqMi4s2cvg3w0wbXy8zMWlDNlkpE/ANYakA+Iu4E7mxkpczMrDXVc0e9mZlZXRxUzMysNHUHFUl9G1kRMzNrfZ0GFUkfkfQI6dcbkbSDpF81vGZmZtZy6mmpnA7sDbwEEBEPAv/ayEqZmVlrqqv7KyLmtkt6twF1MTOzFlfPo+/nSvoIEPl3S75K7gozMzMrqqel8iXgaNLvwrcBO+Z5MzOzJdTzeyovAof0QF3MzKzFdRpUJJ1ZJfkVYEZEXFVlmZmZraTq6f5ag9TlNTu/tgf6AxMk/byBdTMzsxZTz0D9lsCeEbEIQNJZpCcWfwJ4qIF1MzOzFlNPS2UgULybvi+wSUS8C7zdkFqZmVlLqqel8mNgpqRbAJFufPx+fmzLDQ2sm5mZtZh6rv46X9I1wG6koPLtiJiXF3+rkZUzM7PWUu8DJd8CngUWAFtK8mNazMxsKfU8UPII4DZgGvC9/PekOtZbQ9K9kh6U9LCk7+X0zSTdI2m2pEvyXfpIWj3Pz8nLhxbKOiGn/1XS3oX00TltjqTjl23XzcysbPW0VI4FdgWejoiPATsB8+tY723SVWM7kC5JHi1pBPAj4PSIGAYsBCbk/BOAhRGxJekhlj8CkLQNMBbYFhgN/EpSL0m9gF8C+5B+4vignNfMzJqknoH6tyLiLUlIWj0iHpO0VWcrRUQAr+fZVfMrgD2Bg3P6FFKr5yxgDItbQJcDv5CknH5xRLwNPClpDml8B2BORDwBIOninPeROvbJuukDY09odhXMbDlUT0ulTVI/4EpguqSrgHmdrANAblHMBF4ApgOPAy9X7nkhPUtsYJ4eCMwFyMtfAdYvprdbp1Z6tXpMlDRD0oz58+tpZJmZWVfUc/XXAXnyJEk3A+sC19VTeL6XZccclK4APlgtW/6rGstqpVcLiFEljYiYBEwCGD58eNU8ZmbWfR0GFUmrALMiYjuAiLi1KxuJiJfzfS4jgH6SeufWyCAWt3ragMGkllFvUvBaUEivKK5TK93MzJqgw+6viHgPeFDSpstasKQBuYWCpD7Ax0m/w3Iz8LmcbTxQeSjl1DxPXn5THpeZCozNV4dtBgwD7gXuA4blq8lWIw3mT13WepqZWXnqGajfGHhY0r3AG5XEiPh0HetNyVdprQJcGhF/yr93f7GkU4EHgPNz/vOB3+SB+AWkIEFEPCzpUtIA/CLg6NythqRjSJc49wImR8TD9ey0mZk1Rj1B5XtdKTgiZpEuP26f/gSLr94qpr8FHFijrNOA06qkXwNc05X6mZlZ+eoZqL9V0hBgWETcIGlNUsvAzMxsCfXcUf9F0n0j5+SkgaTLi83MzJZQz30qRwN7AK8CRMRsYMNGVsrMzFpTPUHl7Yh4pzKTL/f1vR5mZraUeoLKrZK+DfSR9AngMuDqxlbLzMxaUT1B5XjSAyQfAo4kXW31H42slJmZtaZ6LikeA1wYEec2ujJmZtba6mmpfBr4m6TfSNovj6mYmZktpdOgEhGHAVuSxlIOBh6XdF6jK2ZmZq2nrlZHRPxT0rWkq776kLrEjmhkxczMrPXUc/PjaEkXAHNID3o8j/RcLzMzsyXU01I5FLgYODL/+qKZmVlV9Tz7a2xxXtIewMERcXTDamVmZi2prjEVSTuSBun/L/Ak8MdGVsrMzFpTzaAi6QOk3zQ5CHgJuARQRHysh+pmZmYtpqOWymPA/wKfiog5AJK+1iO1MjOzltTR1V+fBZ4DbpZ0rqS9APVMtczMrBXVDCoRcUVEfB7YGrgF+BqwkaSzJI3qofqZmVkLqeeO+jci4qKI+CQwCJhJesikmZnZEup59tf7ImJBRJwTEXs2qkJmZta6limomJmZdcRBxczMStOwoCJpsKSbJT0q6WFJx+b0/pKmS5qd/66X0yXpTElzJM2StHOhrPE5/2xJ4wvpu0h6KK9zpiRfnWZm1kSNbKksAr4RER8ERgBHS9qGNMh/Y0QMA25k8aD/PsCw/JoInAUpCAEnArsDuwEnVgJRzjOxsN7oBu6PmZl1omFBJSKejYg/5+nXgEeBgaTH5k/J2aYA++fpyi9MRkTcDfSTtDGwNzA9XySwEJgOjM7L1omIuyIigAsLZZmZWRP0yJiKpKHATsA9wEYR8SykwANsmLMNBOYWVmvLaR2lt1VJr7b9iZJmSJoxf/787u6OmZnV0PCgImkt4A/Av0fEqx1lrZIWXUhfOjFiUkQMj4jhAwYM6KzKZmbWRQ0NKpJWJQWUiyKi8mTj53PXFfnvCzm9DRhcWH0QMK+T9EFV0s3MrEkaefWXgPOBRyPivwqLpgKVK7jGA1cV0sflq8BGAK/k7rFpwChJ6+UB+lHAtLzsNUkj8rbGFcoyM7MmqOv3VLpoD+DfgIckzcxp3wZ+CFwqaQLwDHBgXnYNsC/pZ4vfBA6DdBe/pFOA+3K+kyNiQZ4+CrgA6ANcm19mZtYkDQsqEXE7tZ9qvFeV/AFU/TXJiJgMTK6SPgPYrhvVNDOzEvmOejMzK42DipmZlcZBxczMSuOgYmZmpXFQMTOz0jiomJlZaRxUzMysNA4qZmZWGgcVMzMrjYOKmZmVxkHFzMxK46BiZmalcVAxM7PSOKiYmVlpHFTMzKw0DipmZlYaBxUzMyuNg4qZmZXGQcXMzErjoGJmZqVxUDEzs9I4qJiZWWkaFlQkTZb0gqS/FNL6S5ouaXb+u15Ol6QzJc2RNEvSzoV1xuf8syWNL6TvIumhvM6ZktSofTEzs/o0sqVyATC6XdrxwI0RMQy4Mc8D7AMMy6+JwFmQghBwIrA7sBtwYiUQ5TwTC+u135aZmfWwhgWViLgNWNAueQwwJU9PAfYvpF8Yyd1AP0kbA3sD0yNiQUQsBKYDo/OydSLirogI4MJCWWZm1iQ9PaayUUQ8C5D/bpjTBwJzC/naclpH6W1V0s3MrImWl4H6auMh0YX06oVLEyXNkDRj/vz5XayimZl1pqeDyvO564r894Wc3gYMLuQbBMzrJH1QlfSqImJSRAyPiOEDBgzo9k6YmVl1PR1UpgKVK7jGA1cV0sflq8BGAK/k7rFpwChJ6+UB+lHAtLzsNUkj8lVf4wplmZlZk/RuVMGSfg+MBDaQ1Ea6iuuHwKWSJgDPAAfm7NcA+wJzgDeBwwAiYoGkU4D7cr6TI6Iy+H8U6QqzPsC1+WVmZk3UsKASEQfVWLRXlbwBHF2jnMnA5CrpM4DtulNHMzMr1/IyUG9mZisABxUzMyuNg4qZmZXGQcXMzErjoGJmZqVxUDEzs9I4qJiZWWkcVMzMrDQOKmZmVhoHFTMzK42DipmZlcZBxczMSuOgYmZmpXFQMTOz0jiomJlZaRxUzMysNA4qZmZWGgcVMzMrjYOKmZmVxkHFzMxK46BiZmalcVAxM7PSOKiYmVlpWj6oSBot6a+S5kg6vtn1MTNbmbV0UJHUC/glsA+wDXCQpG2aWyszs5VXSwcVYDdgTkQ8ERHvABcDY5pcJzOzlVbvZlegmwYCcwvzbcDu7TNJmghMzLOvS/prD9RtZbAB8GKzK7E80E/HN7sKtjQfnxUnqrslDKk3Y6sHlWrvVCyVEDEJmNT46qxcJM2IiOHNrodZNT4+m6PVu7/agMGF+UHAvCbVxcxspdfqQeU+YJikzSStBowFpja5TmZmK62W7v6KiEWSjgGmAb2AyRHxcJOrtTJxl6Itz3x8NoEilhqCMDMz65JW7/4yM7PliIOKmZmVxkFlJSbpq5IelXRRg8o/SdI3G1G2rZwkhaTfFOZ7S5ov6U+drDeyszxWjpYeqLdu+zKwT0Q82eyKmNXpDWA7SX0i4h/AJ4C/N7lOVuCWykpK0tnA5sBUSd+RNFnSfZIekDQm5zlU0pWSrpb0pKRjJH0957lbUv+c74t53Qcl/UHSmlW2t4Wk6yTdL+l/JW3ds3tsK5Brgf3y9EHA7ysLJO0m6c58jN4paav2K0vqW+14t3I4qKykIuJLpBtFPwb0BW6KiF3z/E8k9c1ZtwMOJj1n7TTgzYjYCbgLGJfz/DEido2IHYBHgQlVNjkJ+EpE7AJ8E/hVY/bMVgIXA2MlrQFsD9xTWPYY8K/5GP0u8P0q63+H2se7dZO7vwxgFPDpwvjHGsCmefrmiHgNeE3SK8DVOf0h0gcaUnfEqUA/YC3SfUPvk7QW8BHgMun9J+us3ogdsRVfRMySNJTUSrmm3eJ1gSmShpEe2bRqlSJqHe+PNqTCKxkHFYP0DLXPRsQSD9qUtDvwdiHpvcL8eyw+fi4A9o9x4tdlAAACiklEQVSIByUdCoxsV/4qwMsRsWO51baV2FTgp6Rjbf1C+imkL0IH5MBzS5V1qx7vVg53fxmklsVXlJsRknZaxvXXBp6VtCpwSPuFEfEq8KSkA3P5krRDN+tsK7fJwMkR8VC79HVZPHB/aI11u3u8WwccVAzSt7tVgVmS/pLnl8V/kvq1p5P6tKs5BJgg6UHgYfy7N9YNEdEWEWdUWfRj4AeS7iA9uqma7h7v1gE/psXMzErjloqZmZXGQcXMzErjoGJmZqVxUDEzs9I4qJiZWWkcVMxKIGkjSb+T9ER+vtldkg4ooVw/XddaioOKWTflm+iuBG6LiM3z883GAoOaUBc/JcOaykHFrPv2BN6JiLMrCRHxdET8t6Rekn6Sn4g7S9KR8H4L5BZJl0t6TNJFhTu8R+e024HPVMqs9XTd/DTpyyRdDVzfo3tu1o6/1Zh137bAn2ssmwC8EhG7SloduENS5cS/U153HnAHsIekGcC5pEA1B7ikUFbl6bqHS+oH3Cvphrzsw8D2EbGgzB0zW1YOKmYlk/RL4F+Ad4Cnge0lfS4vXhcYlpfdGxFteZ2ZwFDgdeDJiJid038LTMzrdvQ06ekOKLY8cFAx676Hgc9WZiLiaEkbADOAZ0i/I9P+5wBGsuQToN9l8eex1rOTOnqa9Bvd2QGzsnhMxaz7bgLWkHRUIa3y65fTgKPyE5yR9IFOfhDqMWAzSVvk+YMKy/x0XVvuOaiYdVOkp7LuD3w0/+zyvcAU4DjgPOAR4M/5ibjn0EEPQUS8Reru+p88UP90YbGfrmvLPT+l2MzMSuOWipmZlcZBxczMSuOgYmZmpXFQMTOz0jiomJlZaRxUzMysNA4qZmZWmv8PG8EVWng2/ocAAAAASUVORK5CYII=\n",
      "text/plain": [
       "<Figure size 432x288 with 1 Axes>"
      ]
     },
     "metadata": {
      "needs_background": "light"
     },
     "output_type": "display_data"
    }
   ],
   "source": [
    "average_salary = data['salary'].groupby(data['male']).mean()\n",
    "average_salary = average_salary.to_frame()\n",
    "average_salary.index = ['female','Male']\n",
    "sal_std = data['salary'].std()\n",
    "sns.barplot(x=average_salary.index, y=\"salary\", data=average_salary, yerr = sal_std, capsize=5)\n",
    "plt.xlabel('Gender')\n",
    "plt.ylabel('Average Salary')\n",
    "plt.title(' Different average salaries of men and women')\n",
    "plt.show()"
   ]
  },
  {
   "cell_type": "markdown",
   "metadata": {},
   "source": [
    "In a turn of events even when the women are significantly slower in number they are relatively close to the average salary males earn . Which could mean women earn more overall as men may have the outlier carrying /skewing the data to seem like they are making more.But Males still make more on average which is still pretty bad. According to the data observed more males were present in the search so we cant base that men make more than women . Men generally make the median of the data whereas women make less than the median showing that men are earning more . This could be to the number of men and men in the executive positions."
   ]
  },
  {
   "cell_type": "markdown",
   "metadata": {},
   "source": [
    "## 12.Create a scatterplot with seaborn showing the relationship between Years Worked and Salary (don’t forget to insert a trend line).What is the relationship between Years Worked and Salary?Describe any patterns in the scatterplot.Do you notice any unusual/extreme values that do not fit the general trend? If you see any unusual values, briefly describe them (Who are they? In what way are they different?) "
   ]
  },
  {
   "cell_type": "code",
<<<<<<< HEAD
   "execution_count": 12,
=======
   "execution_count": 22,
>>>>>>> 18de6122b6e494f6db859015ddc6027717d9dc7e
   "metadata": {},
   "outputs": [
    {
     "name": "stderr",
     "output_type": "stream",
     "text": [
      "/Users/oliverangelil/miniconda3/lib/python3.6/site-packages/scipy/stats/stats.py:1713: FutureWarning: Using a non-tuple sequence for multidimensional indexing is deprecated; use `arr[tuple(seq)]` instead of `arr[seq]`. In the future this will be interpreted as an array index, `arr[np.array(seq)]`, which will result either in an error or a different result.\n",
      "  return np.add.reduce(sorted[indexer] * weights, axis=axis) / sumval\n"
     ]
    },
    {
     "data": {
<<<<<<< HEAD
      "image/png": "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\n",
=======
      "image/png": "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\n",
>>>>>>> 18de6122b6e494f6db859015ddc6027717d9dc7e
      "text/plain": [
       "<Figure size 432x288 with 1 Axes>"
      ]
     },
     "metadata": {
      "needs_background": "light"
     },
     "output_type": "display_data"
    },
    {
     "name": "stdout",
     "output_type": "stream",
     "text": [
      "      salary  exprior  yearsworked  yearsrank  market  degree  otherqual  \\\n",
      "382  64109.0        0           41         28    0.91       1          0   \n",
      "\n",
      "     position  male  Field  yearsabs  \n",
      "382         3     1      2         0  \n"
     ]
    }
   ],
   "source": [
    "sns.regplot(x = data['yearsworked'], y = data['salary'])\n",
    "plt.title('relationship between Years Worked and Salary')\n",
    "plt.show()\n",
    "#print(data.loc[data['salary'] == data['salary'].max()])\n",
    "print(data.loc[data['yearsworked'] >= 40])"
   ]
  },
  {
   "cell_type": "markdown",
   "metadata": {},
   "source": [
    "The more years a person has worked the more they are more likely according to the upward trendline to earn a higher salary .Some are outliers who worked is 12 years but the salary is still high this person ,this can be explained by his prior work experience, and degree in the job market degree and experience count for a lot and he is male so its also inclined that he earns more. This could be a new age job as you need less work to but earn a significant amount like coders earn more than traditional jobs of rip . Unlike teachers who could work for years but not reflected in salary where they have a significant amount of experience/ years worked. Or the person who worked 40 years and is still not above the trendline this may be explained by him/her having a low income job like mining where no amount to experience matters to salary. He is an outlier in this instance but he generally follows the direction of the trendline. He is also an executive which also shows that not all executives earn above the trend line even though he has a degree."
   ]
  },
  {
   "cell_type": "markdown",
   "metadata": {},
   "source": [
    "## 13. Using the pearsonr function from the scipy.stats package, calculate the Pearson correlation coefficient (and its corresponding p value) to determine the nature of the relationship between Years Worked and Salary. See help(pearsonr) for help on this function.Interpret the size and direction of the correlation statistic.Is the relationship statistically significant? Report the appropriate statistic(s) to support your answer."
   ]
  },
  {
   "cell_type": "code",
   "execution_count": 27,
   "metadata": {},
   "outputs": [
    {
     "name": "stdout",
     "output_type": "stream",
     "text": [
      "(0.6235888657598045, 1.2873351342921916e-56)\n"
     ]
    }
   ],
   "source": [
    "pearson_corr = stats.pearsonr(data['yearsworked'], data['salary'])\n",
    "print(pearson_corr)"
   ]
  },
  {
   "cell_type": "markdown",
   "metadata": {},
   "source": [
    "The correlation coefficient (r=0.62) shows that there is a positive relationship between yearsworked and salary, and it is significant because the p-value is small (p << 0.05)."
   ]
  }
 ],
 "metadata": {
  "kernelspec": {
   "display_name": "Python 3",
   "language": "python",
   "name": "python3"
  },
  "language_info": {
   "codemirror_mode": {
    "name": "ipython",
    "version": 3
   },
   "file_extension": ".py",
   "mimetype": "text/x-python",
   "name": "python",
   "nbconvert_exporter": "python",
   "pygments_lexer": "ipython3",
   "version": "3.6.6"
  }
 },
 "nbformat": 4,
 "nbformat_minor": 2
}
