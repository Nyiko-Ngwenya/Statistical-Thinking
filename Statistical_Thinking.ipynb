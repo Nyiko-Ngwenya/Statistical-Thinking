{
 "cells": [
  {
   "cell_type": "markdown",
   "metadata": {},
   "source": [
    "# Assignment"
   ]
  },
  {
   "cell_type": "markdown",
   "metadata": {},
   "source": [
    "## Importing Required Modules and reading csv's"
   ]
  },
  {
   "cell_type": "code",
   "execution_count": 2,
   "metadata": {},
   "outputs": [
    {
     "name": "stdout",
     "output_type": "stream",
     "text": [
      "(514, 11)\n",
      "514\n",
      "    salary  exprior  yearsworked  yearsrank  market  degree  otherqual  \\\n",
      "0  53000.0        0            0          0    1.17       1          0   \n",
      "1  58000.0        1            0          0    1.24       1          0   \n",
      "2  45500.0        0            0          0    1.21       1          0   \n",
      "3  35782.0        0            2          1    0.99       1          0   \n",
      "4  34731.0        0            2          2    0.91       1          0   \n",
      "\n",
      "   position  male  Field  yearsabs  \n",
      "0         1     1      3         0  \n",
      "1         1     1      2         0  \n",
      "2         1     1      3         2  \n",
      "3         1     1      4         1  \n",
      "4         1     1      4         1  \n",
      "(11, 3)\n",
      "       Variable         Type  \\\n",
      "0        salary   Continuous   \n",
      "1       exprior   Continuous   \n",
      "2   yearsworked   Continuous   \n",
      "3     yearsrank   Continuous   \n",
      "4        market   Continuous   \n",
      "5        degree       Binary   \n",
      "6     otherqual       Binary   \n",
      "7      position  Categorical   \n",
      "8          male       Binary   \n",
      "9         Field  Categorical   \n",
      "10     yearsabs   Continuous   \n",
      "\n",
      "                                          Explanation  \n",
      "0                            Annual salary in dollars  \n",
      "1   Years of experience prior to working in this f...  \n",
      "2                          Years worked in this field  \n",
      "3                       Years worked at current rank   \n",
      "4   Market value (1 = salary at market value for p...  \n",
      "5                        Has degree (0 = no, 1 = yes)  \n",
      "6   Has other post-secondary qualification (0 = no...  \n",
      "7   Position (1 = Junior Employee, 2 = Manager, 3 ...  \n",
      "8                                     0 = no, 1 = yes  \n",
      "9   Field of work (1 = Engineering, 2 = Finance, 3...  \n",
      "10  Years absent from work (e.g. due to illness / ...  \n",
      "0                              Annual salary in dollars\n",
      "1     Years of experience prior to working in this f...\n",
      "2                            Years worked in this field\n",
      "3                         Years worked at current rank \n",
      "4     Market value (1 = salary at market value for p...\n",
      "5                          Has degree (0 = no, 1 = yes)\n",
      "6     Has other post-secondary qualification (0 = no...\n",
      "7     Position (1 = Junior Employee, 2 = Manager, 3 ...\n",
      "8                                       0 = no, 1 = yes\n",
      "9     Field of work (1 = Engineering, 2 = Finance, 3...\n",
      "10    Years absent from work (e.g. due to illness / ...\n",
      "Name: Explanation, dtype: object\n"
     ]
    }
   ],
   "source": [
    "import pandas as pd\n",
    "import matplotlib.pyplot as plt\n",
    "import seaborn as sns\n",
    "import numpy as np\n",
    "import scipy as sp\n",
    "from scipy import stats\n",
    "\n",
    "data = pd.read_csv('salary.csv')\n",
    "descrip_of_vars = pd.read_csv('Salary_metadata.csv',sep = ';')\n",
    "print(data.shape)\n",
    "print(len(data))\n",
    "print(data.head())\n",
    "print(descrip_of_vars.shape)\n",
    "print(descrip_of_vars.head(11))\n",
    "print(descrip_of_vars['Explanation'].head(11))"
   ]
  },
  {
   "cell_type": "markdown",
   "metadata": {},
   "source": [
    "## 1.How many responders are there? Are there any missing values in any of the variables?"
   ]
  },
  {
   "cell_type": "code",
   "execution_count": 29,
   "metadata": {},
   "outputs": [
    {
     "name": "stdout",
     "output_type": "stream",
     "text": [
      "(513, 11)\n",
      "False\n",
      "False\n",
      "<class 'pandas.core.frame.DataFrame'>\n",
      "Int64Index: 513 entries, 0 to 513\n",
      "Data columns (total 11 columns):\n",
      "salary         513 non-null float64\n",
      "exprior        513 non-null int64\n",
      "yearsworked    513 non-null int64\n",
      "yearsrank      513 non-null int64\n",
      "market         513 non-null float64\n",
      "degree         513 non-null int64\n",
      "otherqual      513 non-null int64\n",
      "position       513 non-null int64\n",
      "male           513 non-null int64\n",
      "Field          513 non-null int64\n",
      "yearsabs       513 non-null int64\n",
      "dtypes: float64(2), int64(9)\n",
      "memory usage: 68.1 KB\n",
      "             salary     exprior  yearsworked   yearsrank      market  \\\n",
      "count    513.000000  513.000000   513.000000  513.000000  513.000000   \n",
      "mean   50863.220098    2.931774    12.836257    7.046784    0.948558   \n",
      "std    12685.132358    4.794327     9.447040    6.419708    0.149524   \n",
      "min    29000.000000    0.000000     0.000000    0.000000    0.710000   \n",
      "25%    40000.000000    0.000000     4.000000    2.000000    0.840000   \n",
      "50%    50096.000000    1.000000    12.000000    5.000000    0.920000   \n",
      "75%    60345.000000    4.000000    22.000000   12.000000    1.020000   \n",
      "max    96156.000000   25.000000    41.000000   28.000000    1.330000   \n",
      "\n",
      "           degree   otherqual    position        male       Field    yearsabs  \n",
      "count  513.000000  513.000000  513.000000  513.000000  513.000000  513.000000  \n",
      "mean     0.964912    0.044834    2.130604    0.750487    2.526316    6.994152  \n",
      "std      0.184181    0.207142    0.819977    0.433153    1.126644   16.887552  \n",
      "min      0.000000    0.000000    1.000000    0.000000    1.000000    0.000000  \n",
      "25%      1.000000    0.000000    1.000000    1.000000    2.000000    0.000000  \n",
      "50%      1.000000    0.000000    2.000000    1.000000    3.000000    1.000000  \n",
      "75%      1.000000    0.000000    3.000000    1.000000    4.000000    2.000000  \n",
      "max      1.000000    1.000000    3.000000    1.000000    4.000000  118.000000  \n"
     ]
    }
   ],
   "source": [
    "print(data.shape) #we have 514 rows\n",
    "print(data.isnull().values.any())\n",
    "print(data.isna().values.any()) # I believe this does the same this as isnull\n",
    "\n",
    "data.info()\n",
    "print(data.describe())\n",
    "\n",
    "data = data.dropna()\n"
   ]
  },
  {
   "cell_type": "markdown",
   "metadata": {},
   "source": [
    "There are 514 responders , but one had a NaN value and decided to drop him as it isnt a huge swing in data. "
   ]
  },
  {
   "cell_type": "markdown",
   "metadata": {},
   "source": [
    "## 2.What is the lowest salary and highest salary in the group?"
   ]
  },
  {
   "cell_type": "code",
   "execution_count": 6,
   "metadata": {},
   "outputs": [
    {
     "name": "stdout",
     "output_type": "stream",
     "text": [
      "29000.0 is the minimum and 96156.0 is the maximum\n"
     ]
    }
   ],
   "source": [
    "minimum = data['salary'].min()\n",
    "maximum = data['salary'].max()\n",
    "\n",
    "print(f\"{minimum} is the minimum and {maximum} is the maximum\")"
   ]
  },
  {
   "cell_type": "markdown",
   "metadata": {},
   "source": [
    "The lowest in this dataset is 29 000 and highest 96 156 which shows the range of difference in salaries . This could be the level of importance in their respective jobs (CEO, Normal Worker) .In that regard it normal to have a pay gap. "
   ]
  },
  {
   "cell_type": "markdown",
   "metadata": {},
   "source": [
    "## 3.What is the mean salary for the sample? Include the standard error of the mean."
   ]
  },
  {
   "cell_type": "code",
   "execution_count": 4,
   "metadata": {},
   "outputs": [
    {
     "name": "stdout",
     "output_type": "stream",
     "text": [
      "50863.22009783626 is the mean and the standard error of the mean id 560.0622753925232\n"
     ]
    }
   ],
   "source": [
    "mean = data['salary'].mean()\n",
    "std_error_mean = data['salary'].sem()\n",
    "print(f\"{mean} is the mean and the standard error of the mean id {std_error_mean}\")"
   ]
  },
  {
   "cell_type": "markdown",
   "metadata": {},
   "source": [
    "The mean is 50 863 which is the average of the entire data set . In this regard this shows that majority actually earn more or the high salary is picking up the low earners which may skew out data . The standard error of the mean 560, is a measure of the dispersion of sample means around the salary ."
   ]
  },
  {
   "cell_type": "markdown",
   "metadata": {},
   "source": [
    "## 4.What is the standard deviation for the years worked?"
   ]
  },
  {
   "cell_type": "code",
   "execution_count": 8,
   "metadata": {},
   "outputs": [
    {
     "name": "stdout",
     "output_type": "stream",
     "text": [
      "9.447040460636986 is the standard deviation\n"
     ]
    }
   ],
   "source": [
    "standard_dev = data['yearsworked'].std()\n",
    "print(f\"{standard_dev} is the standard deviation\")"
   ]
  },
  {
   "cell_type": "markdown",
   "metadata": {},
   "source": [
    "The standard deviation is 9.45 so of the years worked from the 12 mean showing that most of the numbers are close to the average ."
   ]
  },
  {
   "cell_type": "markdown",
   "metadata": {},
   "source": [
    "## 5.What is the median salary for the sample?"
   ]
  },
  {
   "cell_type": "code",
   "execution_count": 9,
   "metadata": {},
   "outputs": [
    {
     "name": "stdout",
     "output_type": "stream",
     "text": [
      "50096.0 is the median\n"
     ]
    }
   ],
   "source": [
    "median = data['salary'].median()\n",
    "print(f\"{median} is the median\")"
   ]
  },
  {
   "cell_type": "markdown",
   "metadata": {},
   "source": [
    "The median or the middle , is 50 096 showing that the data seems roundabout split in the middle of 29000.0 and 96156.0 . "
   ]
  },
  {
   "cell_type": "markdown",
   "metadata": {},
   "source": [
    "## 6.What is the interquartile range for salary in the sample? "
   ]
  },
  {
   "cell_type": "code",
   "execution_count": 13,
   "metadata": {},
   "outputs": [
    {
     "name": "stdout",
     "output_type": "stream",
     "text": [
      "The interquartile range for salary is 20345.0\n",
      "The lower outlier boundary is 19655.0\n",
      "The upper outlier boundary is 80690.0\n"
     ]
    }
   ],
   "source": [
    "Q1 = data['salary'].quantile(0.25)\n",
    "Q3 = data['salary'].quantile(0.75)\n",
    "IQR = Q3 - Q1\n",
    "outlier_lower =  Q1 - IQR\n",
    "outlier_upper =  Q3 + IQR\n",
    "print(f'The interquartile range for salary is {IQR}')\n",
    "print(f'The lower outlier boundary is {outlier_lower}')\n",
    "print(f'The upper outlier boundary is {outlier_upper}')"
   ]
  },
  {
   "cell_type": "markdown",
   "metadata": {},
   "source": [
    "The interquartile range also called the midspread or middle 50% is 20345.0 . Which is close to the minimum salary , but significantly less . SO anything above the Q3 + IQR is an outlier which means the highest salary is an outlier. "
   ]
  },
  {
   "cell_type": "markdown",
   "metadata": {},
   "source": [
    "## 7.How many men are there in the sample? How many women are there in the sample? Present this information in a table."
   ]
  },
  {
   "cell_type": "code",
   "execution_count": 19,
   "metadata": {},
   "outputs": [
    {
     "name": "stdout",
     "output_type": "stream",
     "text": [
      "        Gender\n",
      "male       386\n",
      "female     128\n"
     ]
    }
   ],
   "source": [
    "num_of_sex = data['male'].value_counts()\n",
    "num_of_sex.index = ['male','female']\n",
    "df_num_of_sex = num_of_sex.to_frame()\n",
    "df_num_of_sex.columns = ['Gender']\n",
    "print(df_num_of_sex)"
   ]
  },
  {
   "cell_type": "markdown",
   "metadata": {},
   "source": [
    "The number of males is significantly higher than females . This could be the reason women are fighting for equal opportunity as work has been a male dominated thing. Women are still playing catch up and thus the disparity."
   ]
  },
  {
   "cell_type": "markdown",
   "metadata": {},
   "source": [
    "## 8.How many women are executives compared to men? "
   ]
  },
  {
   "cell_type": "code",
   "execution_count": 18,
   "metadata": {},
   "outputs": [
    {
     "name": "stdout",
     "output_type": "stream",
     "text": [
      "Male      192\n",
      "Female     19\n",
      "Name: gender, dtype: int64\n",
      "49.61038961038961 14.84375\n"
     ]
    },
    {
     "name": "stderr",
     "output_type": "stream",
     "text": [
      "/Users/oliverangelil/miniconda3/lib/python3.6/site-packages/ipykernel_launcher.py:2: SettingWithCopyWarning: \n",
      "A value is trying to be set on a copy of a slice from a DataFrame.\n",
      "Try using .loc[row_indexer,col_indexer] = value instead\n",
      "\n",
      "See the caveats in the documentation: http://pandas.pydata.org/pandas-docs/stable/indexing.html#indexing-view-versus-copy\n",
      "  \n"
     ]
    }
   ],
   "source": [
    "executives =  data[data['position']== 3]\n",
    "executives['gender'] = executives['male'].apply(lambda sex: 'Male' if sex == 1 else 'Female')\n",
    "print(executives['gender'].value_counts())\n",
    "\n",
    "male_diff = 191/385*100\n",
    "female_diff = 19/128*100\n",
    "print(male_diff,female_diff)"
   ]
  },
  {
   "cell_type": "markdown",
   "metadata": {},
   "source": [
    "From this you can see the number of executives which is still high for men almost 50% which could also be the indication of having males working so long . Whereas females only 14% are executives which is fairly low ."
   ]
  },
  {
   "cell_type": "markdown",
   "metadata": {},
   "source": [
    "## 9.Create a histogram for the variable Salary. "
   ]
  },
  {
   "cell_type": "code",
   "execution_count": 20,
   "metadata": {},
   "outputs": [
    {
     "data": {
      "image/png": "[encoded data removed]",
      "text/plain": [
       "<Figure size 432x288 with 1 Axes>"
      ]
     },
     "metadata": {
      "needs_background": "light"
     },
     "output_type": "display_data"
    }
   ],
   "source": [
    "data['salary'].plot.hist()\n",
    "plt.xlabel('Salaries')\n",
    "plt.title('The frequency of different salary')\n",
    "plt.show()"
   ]
  },
  {
   "cell_type": "markdown",
   "metadata": {},
   "source": [
    "## 10.Examine the histogram and describe the distribution for Salary. "
   ]
  },
  {
   "cell_type": "markdown",
   "metadata": {},
   "source": [
    "The frequency decreases the more the client starts making . The cluster is around the 40 000 to 60 000 is the general majority hence the difference isnt as significant and has a high count . Showing thats where the mean and median is .  Showing that from there is a significant drop of frequency of people earning high amounts which could be the outliers .  "
   ]
  },
  {
   "cell_type": "markdown",
   "metadata": {},
   "source": [
    "## 11.Create a bar graph to show the different average salaries of men and women. (Bonus: Add error bars to the bars showing the 95% confidence interval). What does the graph tell you about the difference between men and women’s salaries? "
   ]
  },
  {
   "cell_type": "code",
   "execution_count": 21,
   "metadata": {},
   "outputs": [
    {
     "data": {
      "image/png": "[encoded data removed]",
      "text/plain": [
       "<Figure size 432x288 with 1 Axes>"
      ]
     },
     "metadata": {
      "needs_background": "light"
     },
     "output_type": "display_data"
    }
   ],
   "source": [
    "average_salary = data['salary'].groupby(data['male']).mean()\n",
    "average_salary = average_salary.to_frame()\n",
    "average_salary.index = ['female','Male']\n",
    "sal_std = data['salary'].std()\n",
    "sns.barplot(x=average_salary.index, y=\"salary\", data=average_salary, yerr = sal_std, capsize=5)\n",
    "plt.xlabel('Gender')\n",
    "plt.ylabel('Average Salary')\n",
    "plt.title(' Different average salaries of men and women')\n",
    "plt.show()"
   ]
  },
  {
   "cell_type": "markdown",
   "metadata": {},
   "source": [
    "In a turn of events even when the women are significantly slower in number they are relativly close to the average salary males earn . Which could mean women earn more overall as men may have the outlier carrying /skewwing the data to seem like they making more.But Males still make more on average which is still pretty bad."
   ]
  },
  {
   "cell_type": "markdown",
   "metadata": {},
   "source": [
    "## 12.Create a scatterplot with seaborn showing the relationship between Years Worked and Salary (don’t forget to insert a trend line).What is the relationship between Years Worked and Salary?Describe any patterns in the scatterplot.Do you notice any unusual/extreme values that do not fit the general trend? If you see any unusual values, briefly describe them (Who are they? In what way are they different?) "
   ]
  },
  {
   "cell_type": "code",
   "execution_count": 22,
   "metadata": {},
   "outputs": [
    {
     "name": "stderr",
     "output_type": "stream",
     "text": [
      "/Users/oliverangelil/miniconda3/lib/python3.6/site-packages/scipy/stats/stats.py:1713: FutureWarning: Using a non-tuple sequence for multidimensional indexing is deprecated; use `arr[tuple(seq)]` instead of `arr[seq]`. In the future this will be interpreted as an array index, `arr[np.array(seq)]`, which will result either in an error or a different result.\n",
      "  return np.add.reduce(sorted[indexer] * weights, axis=axis) / sumval\n"
     ]
    },
    {
     "data": {
      "image/png": "[encoded data removed]",
      "text/plain": [
       "<Figure size 432x288 with 1 Axes>"
      ]
     },
     "metadata": {
      "needs_background": "light"
     },
     "output_type": "display_data"
    }
   ],
   "source": [
    "sns.regplot(x = data['yearsworked'], y = data['salary'])\n",
    "plt.title('relationship between Years Worked and Salary')\n",
    "plt.show()"
   ]
  },
  {
   "cell_type": "markdown",
   "metadata": {},
   "source": [
    "The more years a person has worked the more they are more likely to earm a higher salary some are outliers who worked close to 12 years but the salary is still high . This could be a new age job as you need less work to but earn a significant amount . Umlike teachers who could work for years but not reflect in salary. Or the person who worked 40 years and is still bnot above the trend line .Might be a low income job. like mining "
   ]
  },
  {
   "cell_type": "markdown",
   "metadata": {},
   "source": [
    "## 13. Using the pearsonr function from the scipy.stats package, calculate the Pearson correlation coefficient (and its corresponding p value) to determine the nature of the relationship between Years Worked and Salary. See help(pearsonr) for help on this function.Interpret the size and direction of the correlation statistic.Is the relationship statistically significant? Report the appropriate statistic(s) to support your answer."
   ]
  },
  {
   "cell_type": "code",
   "execution_count": 27,
   "metadata": {},
   "outputs": [
    {
     "name": "stdout",
     "output_type": "stream",
     "text": [
      "(0.6235888657598045, 1.2873351342921916e-56)\n"
     ]
    }
   ],
   "source": [
    "pearson_corr = stats.pearsonr(data['yearsworked'], data['salary'])\n",
    "print(pearson_corr)"
   ]
  },
  {
   "cell_type": "markdown",
   "metadata": {},
   "source": [
    "The correlation coefficient (r=0.62) shows that there is a positive relationship between yearsworked and salary, and it is significant because the p-value is small (p << 0.05)."
   ]
  }
 ],
 "metadata": {
  "kernelspec": {
   "display_name": "Python 3",
   "language": "python",
   "name": "python3"
  },
  "language_info": {
   "codemirror_mode": {
    "name": "ipython",
    "version": 3
   },
   "file_extension": ".py",
   "mimetype": "text/x-python",
   "name": "python",
   "nbconvert_exporter": "python",
   "pygments_lexer": "ipython3",
   "version": "3.6.6"
  }
 },
 "nbformat": 4,
 "nbformat_minor": 2
}
